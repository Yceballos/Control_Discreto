{
  "nbformat": 4,
  "nbformat_minor": 0,
  "metadata": {
    "colab": {
      "name": "TallerI.ipynb",
      "provenance": [],
      "collapsed_sections": []
    },
    "kernelspec": {
      "name": "python3",
      "display_name": "Python 3"
    },
    "language_info": {
      "name": "python"
    }
  },
  "cells": [
    {
      "cell_type": "markdown",
      "metadata": {
        "id": "JOLPSUYk7W1R"
      },
      "source": [
        "1. Demostrar que los valores singulares de $\\mathbf{A}^{-1}$, son $1 / \\sigma_{1}, 1 / \\sigma_{2}, \\ldots, 1 / \\sigma_{n}$, si los $\\sigma$ 's son los valores singulares de $\\mathbf{A}$.\n",
        "\n",
        "  Sabemos por propiedades de los valores propios que: $\\alpha \\mathbf{A}=\\alpha \\mathbf{b}$\n",
        "  \n",
        "  Elevamos toda la ecuación a la -1: $(\\alpha \\mathbf{A}=\\alpha \\mathbf{b})^{-1}$\n",
        "  \n",
        "  Por propiedades distributivas de la inversa: $({\\alpha}) \\mathbf{A}^{-1}=(1 / \\alpha) \\mathbf{b}^{-1}$ para $\\alpha<>0$\n",
        "  \n",
        "\n",
        "  Hagamos el siguiente ejemplo:\n",
        "  \n",
        "\\begin{equation}\n",
        "\\boldsymbol{A}=\\left[\\begin{array}{lll}\n",
        "1 & 7  \\\\\n",
        "4 & 3  \\\\\n",
        "\\end{array}\\right]\n",
        "\\end{equation}\n",
        "\n"
      ]
    },
    {
      "cell_type": "code",
      "metadata": {
        "id": "7q9Rmf7iBOqJ"
      },
      "source": [
        "import numpy as np"
      ],
      "execution_count": 1,
      "outputs": []
    },
    {
      "cell_type": "code",
      "metadata": {
        "colab": {
          "base_uri": "https://localhost:8080/"
        },
        "id": "X3iNU17jDZ1W",
        "outputId": "ea4fda36-ea64-4db5-945d-3447846da3d7"
      },
      "source": [
        "A=np.array([[1,7],[4,3]])\n",
        "iA=np.linalg.inv(A)\n",
        "print(A,'\\n','\\n',iA,'\\n','\\n')\n",
        "\n",
        "eA, evA=np.linalg.eig(A)\n",
        "eiA, eviA=np.linalg.eig(iA)\n",
        "print(\"Valores propios de A: \",eA,'\\n',\"Valores propios de A inversa: \",eiA,'\\n','\\n')\n",
        "print(\"valores propios de A: \",eA,\" valores propios A inversa calculado 1/valores de A: \",1/eA)"
      ],
      "execution_count": 4,
      "outputs": [
        {
          "output_type": "stream",
          "name": "stdout",
          "text": [
            "[[1 7]\n",
            " [4 3]] \n",
            " \n",
            " [[-0.12  0.28]\n",
            " [ 0.16 -0.04]] \n",
            " \n",
            "\n",
            "Valores propios de A:  [-3.38516481  7.38516481] \n",
            " Valores propios de A inversa:  [-0.29540659  0.13540659] \n",
            " \n",
            "\n",
            "valores propios de A:  [-3.38516481  7.38516481]  valores propios A inversa calculado 1/valores de A:  [-0.29540659  0.13540659]\n"
          ]
        }
      ]
    },
    {
      "cell_type": "markdown",
      "metadata": {
        "id": "_XmMwtoCI7cZ"
      },
      "source": [
        "2. Demostrar que\n",
        "$$\n",
        "\\left|\\mathbf{A}^{-1}\\right|=\\frac{1}{|\\mathbf{A}|}\n",
        "$$\n",
        "Usando la descomposicion en valores singulares.\n",
        "$$\n",
        "\\operatorname{Det}(\\mathrm{A})=\\alpha_{1}^{*} \\alpha_{2}{ }^{*} \\ldots * \\alpha_{\\mathrm{n}}\n",
        "$$\n",
        "Del ejercicio anterior: $\\left(1 /{{\\alpha}) \\mathbf{A}^{-1}}=(1 / \\alpha) \\mathbf{c}\\right.$\n",
        "$$\n",
        "\\begin{aligned}\n",
        "&\\operatorname{Det}\\left(A^{-1}\\right)=\\left(1 / \\alpha_{1}\\right)^{*}\\left(1 / \\alpha_{2}\\right)^{*} \\ldots^{*}\\left(1 / \\alpha_{n}\\right) \\\\\n",
        "&\\operatorname{Det}\\left(A^{-1}\\right)=1 /\\left(\\alpha_{1} * \\alpha_{2}^{*} \\ldots^{*} \\alpha_{n}\\right) \\\\\n",
        "&\\operatorname{Det}\\left(A^{-1}\\right)=1 / \\operatorname{Det}(A)\n",
        "\\end{aligned}\n",
        "$$\n",
        "\n",
        "  Hagamos el siguiente ejemplo:\n",
        "  \n",
        "\\begin{equation}\n",
        "\\boldsymbol{A}=\\left[\\begin{array}{lll}\n",
        "1 & 7  \\\\\n",
        "4 & 3  \\\\\n",
        "\\end{array}\\right]\n",
        "\\end{equation}"
      ]
    },
    {
      "cell_type": "code",
      "metadata": {
        "colab": {
          "base_uri": "https://localhost:8080/"
        },
        "id": "ExEev5ZzKG3m",
        "outputId": "bd3fe091-0018-441d-9853-2d74926100bf"
      },
      "source": [
        "A=np.array([[1,7],[4,3]])\n",
        "iA=np.linalg.inv(A)\n",
        "print(A,'\\n','\\n',iA,'\\n','\\n')\n",
        "print(\"determinante de A: \",np.linalg.det(A),\" determinante de A inversa: \",np.linalg.det(iA),\" 1/determinante A: \",1/(np.linalg.det(A)))"
      ],
      "execution_count": null,
      "outputs": [
        {
          "output_type": "stream",
          "name": "stdout",
          "text": [
            "[[1 7]\n",
            " [4 3]] \n",
            " \n",
            " [[-0.12  0.28]\n",
            " [ 0.16 -0.04]] \n",
            " \n",
            "\n",
            "determinante de A:  -25.000000000000007  determinante de A inversa:  -0.03999999999999999  1/determinante A:  -0.03999999999999999\n"
          ]
        }
      ]
    },
    {
      "cell_type": "markdown",
      "metadata": {
        "id": "4KTBJRFXLR0M"
      },
      "source": [
        "3.1. Se tiene una matriz de la forma\n",
        "$$\n",
        "\\mathbf{A}=\\left[\\begin{array}{cc}\n",
        "\\mathbf{A}_{11} & \\mathbf{A}_{12} \\\\\n",
        "\\mathbf{0} & \\mathbf{A}_{22}\n",
        "\\end{array}\\right]\n",
        "$$\n",
        "\n",
        "Asuma que $\\mathbf{A}_{11}$ es $p \\times p, \\mathbf{A}_{22}$ es $q \\times q, \\mathrm{y}$ A es invertible. Demostrar que\n",
        "\n",
        "$$\n",
        "\\mathbf{A}^{-1}=\\left[\\begin{array}{cc}\n",
        "\\mathbf{A}_{11}^{-1} & -\\mathbf{A}_{11}^{-1} \\mathbf{A}_{12} \\mathbf{A}_{22}^{-1} \\\\\n",
        "\\mathbf{0} & \\mathbf{A}_{22}^{-1}\n",
        "\\end{array}\\right]\n",
        "$$\n",
        "\n",
        "\\begin{aligned}\n",
        "&\\boldsymbol{A}=\\left[\\begin{array}{cc}\n",
        "A 11 & A 12 \\\\\n",
        "0 & A 22\n",
        "\\end{array}\\right] \\\\\n",
        "&{\\left[\\begin{array}{cc}\n",
        "1 & -A 12 & A 22^{-1} \\\\\n",
        "0 & 1\n",
        "\\end{array}\\right]\\left[\\begin{array}{cc}\n",
        "A 11 & A 12 \\\\\n",
        "0 & A 22\n",
        "\\end{array}\\right]} \\\\\n",
        "&{\\left[\\begin{array}{cc}\n",
        "A 11^{-1} & 0 \\\\\n",
        "0 & A 22^{-1}\n",
        "\\end{array}\\right]\\left[\\begin{array}{cc}\n",
        "A 11 & 0 \\\\\n",
        "0 & A 22\n",
        "\\end{array}\\right]=\\left[\\begin{array}{cc}\n",
        "1 & 0 \\\\\n",
        "0 & 1\n",
        "\\end{array}\\right]} \\\\\n",
        "&A^{-1}=\\left[\\begin{array}{cc}\n",
        "A 11^{-1} & 0 \\\\\n",
        "0 & A 22^{-1}\n",
        "\\end{array}\\right]\\left[\\begin{array}{cc}\n",
        "1 & -A 12 A 22^{-1} \\\\\n",
        "0 & 1\n",
        "\\end{array}\\right]= \\\\\n",
        "&{\\left[\\begin{array}{cc}\n",
        "A 11^{-1} & -A 11^{-1} A 12 A 22^{-1} \\\\\n",
        "0 & A 22^{-1}\n",
        "\\end{array}\\right]}\n",
        "\\end{aligned}\n",
        "\n",
        "2.3. Realizar el problema $1.3$ en el PC. Generar las matrices $\\mathbf{A}_{11}, \\mathbf{A}_{12}$ y $\\mathbf{A}_{22}$ de manera aleatoria, para $p=3$ y $q=5$. Verificar que se cumple la demonstración.\n",
        "\n",
        "\n",
        "Para poder realizar la demostración, la matriz A debe ser 3x5, es decir qxp para poder realizar las operaciones entre matrices\n",
        "\n",
        "\n",
        "Para verificar el valor, al hacer la multiplicación de A y A inversa debería darnos:\n",
        "\n",
        "En la posición A11 y A22 la matriz identidad y en la posición A12 y A21 una matriz de ceros.\n",
        "\n",
        "\\begin{equation}\n",
        "\\left[A A^{-1}\\right]=I\n",
        "\\end{equation}\n",
        "\n",
        "\\begin{equation}\n",
        "\\left[\\begin{array}{cc}\n",
        "A 11 & A 12 \\\\\n",
        "0 & A 22\n",
        "\\end{array}\\right]\\left[\\begin{array}{cc}\n",
        "A 11^{-1} & -A 11^{-1} A 12 A 22^{-1} \\\\\n",
        "0 & A 22^{-1}\n",
        "\\end{array}\\right]=\n",
        "\\end{equation}\n",
        "\\begin{equation}\n",
        "\\left[\\begin{array}{cc}\n",
        "A 11 A 11^{-1}+A 12 * 0 & A 11\\left(-A 11^{-1} A 12 A 22^{-1}\\right)+A 12 A 22^{-1} \\\\\n",
        "0 * A 11^{-1}+A 22 * 0 & 0 *-A 11^{-1} A 12 A 22^{-1}+A 22 A 22^{-1}\n",
        "\\end{array}\\right]\n",
        "\\end{equation}\n",
        "\n",
        "\\begin{equation}\n",
        "\\left[\\begin{array}{cc}\n",
        "A 11 A 11^{-1} & A 11\\left(-A 11^{-1} A 12 A 22^{-1}\\right)+A 12 A 22^{-1} \\\\\n",
        "0 & A 22 A 22^{-1}\n",
        "\\end{array}\\right]=I\n",
        "\\end{equation}"
      ]
    },
    {
      "cell_type": "code",
      "metadata": {
        "id": "Vj5h0a3gWS8V",
        "colab": {
          "base_uri": "https://localhost:8080/"
        },
        "outputId": "d7afaaf6-13b7-47b1-ff19-e0b5631b70eb"
      },
      "source": [
        "A11=np.random.randn(3,3)\n",
        "A22=np.random.randn(5,5)\n",
        "A12=np.random.rand(3,5)\n",
        "A=np.array([[A11,A12],[0,A22]])\n",
        "\n",
        "A11inv=np.linalg.inv(A11)\n",
        "A22inv=np.linalg.inv(A22)\n",
        "A12f=-A11inv@A12@A22inv\n",
        "\n",
        "AF=np.array([[A11inv,A12f],[0,A22inv]])\n",
        "\n",
        "print(\"A es: \",'\\n',A,'\\n \\n')\n",
        "print(\"A inversa es: \",'\\n',AF,'\\n \\n')\n",
        "\n",
        "print(\"La matriz A11 es: \",'\\n \\n',A11inv@A11,'\\n')\n",
        "print(\"La matriz A12 es: \",'\\n \\n',A11inv@A12+A12f@A22,'\\n') #debe dar casi cero\n",
        "print(\"La matriz A21 es: \",'\\n \\n', 0)\n",
        "print(\"La matriz A22 es: \",'\\n \\n',A22@A22inv)\n",
        "\n"
      ],
      "execution_count": null,
      "outputs": [
        {
          "output_type": "stream",
          "name": "stdout",
          "text": [
            "A es:  \n",
            " [[array([[-0.5862438 ,  0.95879582, -1.07593976],\n",
            "       [-0.54009456,  0.44191568, -1.3159585 ],\n",
            "       [-1.36098681, -0.02954976, -0.65873143]])\n",
            "  array([[0.32318802, 0.7562679 , 0.42000174, 0.8674665 , 0.0010754 ],\n",
            "       [0.7260369 , 0.57615621, 0.94112124, 0.57581169, 0.60336473],\n",
            "       [0.92313335, 0.05552567, 0.69542674, 0.98078284, 0.7257496 ]])]\n",
            " [0\n",
            "  array([[ 0.77166116, -1.90998055, -0.28295529, -0.30579593,  1.44669917],\n",
            "       [-1.65569619, -0.69099352,  1.9914331 , -0.74365958, -0.25450564],\n",
            "       [-0.83189447, -0.35427055,  0.80753611, -1.11330137, -0.85985564],\n",
            "       [-0.41931615, -0.45171539, -0.4525053 ,  0.08590075,  0.43262107],\n",
            "       [ 0.88336109,  1.13052707,  0.03061836,  0.20536547, -2.89399707]])]] \n",
            " \n",
            "\n",
            "A inversa es:  \n",
            " [[array([[-0.36452678,  0.73281237, -0.86855097],\n",
            "       [ 1.58543563, -1.19100317, -0.21028674],\n",
            "       [ 0.68201831, -1.46061669,  0.28585297]])\n",
            "  array([[ 0.2084736 ,  0.48981994, -0.987066  ,  0.13566822,  0.30952846],\n",
            "       [ 0.38462042, -0.05758296,  0.17775161, -1.53142473, -0.3848663 ],\n",
            "       [ 0.07823311,  0.13559672, -0.31518381, -2.00797224, -0.41192245]])]\n",
            " [0\n",
            "  array([[ 0.32358776, -0.15563117, -0.05204301, -0.97710126,  0.04484387],\n",
            "       [-0.48297016, -0.34106768,  0.22244489, -0.82919503, -0.40148852],\n",
            "       [ 0.11263628,  0.49210852, -0.42538814, -0.87316975,  0.00888985],\n",
            "       [ 0.05888022,  0.68007839, -1.22302165,  0.80421846,  0.45322855],\n",
            "       [-0.08452853, -0.1272747 , -0.0202778 , -0.57433955, -0.45643814]])]] \n",
            " \n",
            "\n",
            "La matriz A11 es:  \n",
            " \n",
            " [[ 1.00000000e+00 -5.79954602e-17  8.74394639e-17]\n",
            " [-1.07238939e-16  1.00000000e+00 -1.00979249e-16]\n",
            " [-6.42899521e-17 -1.56428818e-17  1.00000000e+00]] \n",
            "\n",
            "La matriz A12 es:  \n",
            " \n",
            " [[ 5.55111512e-17  1.38777878e-17 -6.93889390e-17  1.11022302e-16\n",
            "   5.55111512e-17]\n",
            " [ 3.33066907e-16  3.33066907e-16 -1.11022302e-16  1.11022302e-16\n",
            "   5.55111512e-16]\n",
            " [ 3.33066907e-16  2.22044605e-16 -1.11022302e-16  2.04697370e-16\n",
            "   7.77156117e-16]] \n",
            "\n",
            "La matriz A21 es:  \n",
            " \n",
            " 0\n",
            "La matriz A22 es:  \n",
            " \n",
            " [[ 1.00000000e+00  1.10517303e-16 -7.40211528e-17 -3.56801386e-17\n",
            "   3.52760200e-18]\n",
            " [-4.05909867e-18  1.00000000e+00  5.50309918e-17  1.33807633e-17\n",
            "  -4.28170835e-18]\n",
            " [-1.92431101e-17  1.19451049e-16  1.00000000e+00  3.48440801e-16\n",
            "   9.63873241e-17]\n",
            " [ 2.73004712e-17  6.17431866e-17  7.79420066e-17  1.00000000e+00\n",
            "   1.10781591e-16]\n",
            " [ 6.88133898e-17  1.62310751e-16 -9.16190517e-17  1.10229795e-16\n",
            "   1.00000000e+00]]\n"
          ]
        },
        {
          "output_type": "stream",
          "name": "stderr",
          "text": [
            "/usr/local/lib/python3.7/dist-packages/ipykernel_launcher.py:4: VisibleDeprecationWarning: Creating an ndarray from ragged nested sequences (which is a list-or-tuple of lists-or-tuples-or ndarrays with different lengths or shapes) is deprecated. If you meant to do this, you must specify 'dtype=object' when creating the ndarray\n",
            "  after removing the cwd from sys.path.\n",
            "/usr/local/lib/python3.7/dist-packages/ipykernel_launcher.py:10: VisibleDeprecationWarning: Creating an ndarray from ragged nested sequences (which is a list-or-tuple of lists-or-tuples-or ndarrays with different lengths or shapes) is deprecated. If you meant to do this, you must specify 'dtype=object' when creating the ndarray\n",
            "  # Remove the CWD from sys.path while we load stuff.\n"
          ]
        }
      ]
    },
    {
      "cell_type": "markdown",
      "metadata": {
        "id": "btswBajrNh8N"
      },
      "source": [
        "2.1. Encuentre la solución de mínimos cuadrados al problema $\\mathbf{A x}=\\mathbf{b}$ usando la factorización $\\mathrm{QR}$, y resolviendo por medio de $\\mathbf{R x}=\\mathbf{Q}^{\\top} \\mathbf{b} .$ Donde $\\mathbf{R x}$ se resuelve por sustitución hacia atrás.\n",
        "\n",
        "$$\n",
        "\\mathbf{A}=\\left[\\begin{array}{ccc}\n",
        "4 & 0 & 1 \\\\\n",
        "1 & -5 & 1 \\\\\n",
        "6 & 1 & 0 \\\\\n",
        "1 & -1 & -5\n",
        "\\end{array}\\right], \\quad \\mathbf{b}=\\left[\\begin{array}{l}\n",
        "9 \\\\\n",
        "0 \\\\\n",
        "0 \\\\\n",
        "0\n",
        "\\end{array}\\right]\n",
        "$$\n",
        "\n",
        "IRx=Qt"
      ]
    },
    {
      "cell_type": "code",
      "metadata": {
        "id": "-jYWPbtmOXTO",
        "colab": {
          "base_uri": "https://localhost:8080/"
        },
        "outputId": "b43b70b0-54f4-4a0a-cef5-40cd72ad47e7"
      },
      "source": [
        "A=np.array([[4,0,1],[1,-5,1],[6,1,0],[1,-1,-5]])\n",
        "b=np.array([[9],[0],[0],[0]])\n",
        "\n",
        "#Encontrar los vectores ortonormales por chismosear y chicanear\n",
        "q1=A[:,0]\n",
        "q1=q1/np.linalg.norm(q1)\n",
        "\n",
        "a2=A[:,1]\n",
        "q2=a2-np.dot(q1,a2)*q1\n",
        "q2=q2/np.linalg.norm(q2)\n",
        "\n",
        "a3=A[:,2]\n",
        "q3=a3-np.dot(q2,a3)*q2-np.dot(q2,a3)*q2\n",
        "q3=q3/np.linalg.norm(q3)\n",
        "\n",
        "print(\"Los vectores q: \",'\\n',q1)\n",
        "print(q2)\n",
        "print(q3,'\\n')\n",
        "\n",
        "print(\"Verificamos ortogonalidad: \",'\\n',np.dot(q1,q2))\n",
        "print(np.dot(q1,q3))\n",
        "print(np.dot(q2,q3),'\\n')\n",
        "\n",
        "q=np.concatenate(([q1],[q2],[q3]),axis=0)\n",
        "print(\"matriz q: \",'\\n',q)"
      ],
      "execution_count": null,
      "outputs": [
        {
          "output_type": "stream",
          "name": "stdout",
          "text": [
            "Los vectores q:  \n",
            " [0.54433105 0.13608276 0.81649658 0.13608276]\n",
            "[ 0.         -0.96225045  0.19245009 -0.19245009]\n",
            "[ 1.92450090e-01  1.92450090e-01 -4.11193713e-18 -9.62250449e-01] \n",
            "\n",
            "Verificamos ortogonalidad:  \n",
            " 1.9109342704268683e-17\n",
            "-1.1390925029178527e-17\n",
            "1.374877180409105e-17 \n",
            "\n",
            "matriz q:  \n",
            " [[ 5.44331054e-01  1.36082763e-01  8.16496581e-01  1.36082763e-01]\n",
            " [ 0.00000000e+00 -9.62250449e-01  1.92450090e-01 -1.92450090e-01]\n",
            " [ 1.92450090e-01  1.92450090e-01 -4.11193713e-18 -9.62250449e-01]]\n"
          ]
        }
      ]
    },
    {
      "cell_type": "markdown",
      "metadata": {
        "id": "UYBeSO2pEc_M"
      },
      "source": [
        "A@x = b\n",
        "\n",
        "R@x = Q.T@b\n",
        "\n",
        "A = Q@R\n",
        "\n",
        "\\begin{equation}\n",
        "\\hat{\\mathbf{x}}=\\left(\\mathbf{A}^{\\top} \\mathbf{A}\\right)^{-1} \\mathbf{A}^{\\top} \\mathbf{b}=\\mathbf{A}^{\\dagger} \\mathbf{b}=\\mathbf{R}^{-1} \\mathbf{Q}^{\\top} \\mathbf{b}\n",
        "\\end{equation}\n",
        "\n",
        "\n",
        "Hallamos Rx con backward sustitution"
      ]
    },
    {
      "cell_type": "code",
      "metadata": {
        "colab": {
          "base_uri": "https://localhost:8080/"
        },
        "id": "udWjjXOlH9pt",
        "outputId": "1f19097c-0bd4-4aa1-d3f6-bfdef7d6ad47"
      },
      "source": [
        "Q,R=np.linalg.qr(A)\n",
        "xc1=np.linalg.solve(R,(Q.T@b))\n",
        "\n",
        "print(xc1)"
      ],
      "execution_count": null,
      "outputs": [
        {
          "output_type": "stream",
          "name": "stdout",
          "text": [
            "[[ 6.66666667e-01]\n",
            " [-4.42432214e-17]\n",
            " [ 3.33333333e-01]]\n"
          ]
        }
      ]
    },
    {
      "cell_type": "markdown",
      "metadata": {
        "id": "0Qa3_ooRT_LK"
      },
      "source": [
        "2.2. Realizar el problema anterior usando $\\hat{\\mathbf{x}}=\\left(\\mathbf{A}^{\\top} \\mathbf{A}\\right)^{-1} \\mathbf{A}^{\\top} \\mathbf{b}$. Comparar si la matriz $\\left(\\mathbf{A}^{\\top} \\mathbf{A}\\right)^{-1} \\mathbf{A}^{\\top}$ corresponde a la pseudo inversa, típicamente denotada como pinv en las librerías de algebra lineal."
      ]
    },
    {
      "cell_type": "code",
      "metadata": {
        "colab": {
          "base_uri": "https://localhost:8080/"
        },
        "id": "_znEwdbwUFNG",
        "outputId": "684126a6-9f32-4042-bd48-828973b529e4"
      },
      "source": [
        "A=np.array([[4,0,1],[1,-5,1],[6,1,0],[1,-1,-5]])\n",
        "b=np.array([[9],[0],[0],[0]])\n",
        "\n",
        "Q,R = np.linalg.qr(A)\n",
        "print(Q,'\\n \\n',R)\n",
        "x=np.linalg.solve(A.T@A,(A.T@b))\n",
        "\n",
        "Ai1=np.linalg.inv((A.T@A))@A.T\n",
        "Ai2=np.linalg.pinv(A)\n",
        "\n",
        "print('\\n \\n',\"Con la aplicación QR, los valores de x son \",'\\n',x)\n",
        "print('\\n',\"(AT A)^-1 AT: \",'\\n',Ai1,'\\n \\n',\"la pseudoinversa: \",'\\n',Ai2)\n"
      ],
      "execution_count": null,
      "outputs": [
        {
          "output_type": "stream",
          "name": "stdout",
          "text": [
            "[[-5.44331054e-01 -2.14318987e-17  1.92450090e-01]\n",
            " [-1.36082763e-01 -9.62250449e-01  1.92450090e-01]\n",
            " [-8.16496581e-01  1.92450090e-01  1.33437137e-17]\n",
            " [-1.36082763e-01 -1.92450090e-01 -9.62250449e-01]] \n",
            " \n",
            " [[-7.34846923e+00  0.00000000e+00  0.00000000e+00]\n",
            " [ 0.00000000e+00  5.19615242e+00  1.11022302e-16]\n",
            " [ 0.00000000e+00  0.00000000e+00  5.19615242e+00]]\n",
            "\n",
            " \n",
            " Con la aplicación QR, los valores de x son  \n",
            " [[0.66666667]\n",
            " [0.        ]\n",
            " [0.33333333]]\n",
            "\n",
            " (AT A)^-1 AT:  \n",
            " [[ 0.07407407  0.01851852  0.11111111  0.01851852]\n",
            " [ 0.         -0.18518519  0.03703704 -0.03703704]\n",
            " [ 0.03703704  0.03703704  0.         -0.18518519]] \n",
            " \n",
            " la pseudoinversaa:  \n",
            " [[ 7.40740741e-02  1.85185185e-02  1.11111111e-01  1.85185185e-02]\n",
            " [-4.12457082e-18 -1.85185185e-01  3.70370370e-02 -3.70370370e-02]\n",
            " [ 3.70370370e-02  3.70370370e-02  2.56799889e-18 -1.85185185e-01]]\n"
          ]
        }
      ]
    },
    {
      "cell_type": "markdown",
      "metadata": {
        "id": "D-tgDJyTQdV0"
      },
      "source": [
        "Hay que tener en cuenta que esta factorización nos genera un márgen de error, ya que el resultado se encuentra en los R^n, busca el resultado más apróximado en el plano que forma nuestra matriz, pero si no está conferido, nos genera grandes errores. \n",
        "\n",
        "Finalmente, se verificó el resultado de la ecuación por ambos metodos, desde la pseudoinversa y Rx\n",
        "\n",
        "\\begin{equation}\n",
        "\\hat{\\mathbf{x}}=\\left(\\mathbf{A}^{\\top} \\mathbf{A}\\right)^{-1} \\mathbf{A}^{\\top} \\mathbf{b}=\\mathbf{A}^{\\dagger} \\mathbf{b}=\\mathbf{R}^{-1} \\mathbf{Q}^{\\top} \\mathbf{b}\n",
        "\\end{equation}"
      ]
    },
    {
      "cell_type": "markdown",
      "metadata": {
        "id": "PzV5FKk7WtU1"
      },
      "source": [
        "2.4. La matriz de banda A mostrada abajo puede ser utilizada para estimar la conducción inestable de calor en una barra cuando la temperatura en los puntos $p_{1}, \\ldots, p_{5}$ sobre la barra cambian con el tiempo.\n",
        "\n",
        "La constante $C$ en una matriz depende de la naturaleza física de la barra, la distancia $\\Delta x$ entre los puntos sobre la barra, $y$ la longitud del tiempo $\\Delta t$ entre medidas sucesivas de temperaturas. Suponga que para $k=0,1,2, \\ldots$ un vector $\\mathbf{t}_{k} \\in \\mathbb{R}^{5}$ contiene las temperaturas\n",
        "\n",
        "en el tiempo $k \\Delta t .$ Si los dos finales de la barra se mantienen en $0^{\\circ}$, entonces los vectores temperatura satisfacen la ecuación $\\mathbf{A t}_{k+1}=\\mathbf{t}_{k}($ con $k=0,1, \\ldots)$, donde\n",
        "$$\n",
        "\\mathbf{A}=\\left[\\begin{array}{ccccc}\n",
        "(1+2 C) & -C & & & \\\\\n",
        "-C & (1+2 C) & -C & & \\\\\n",
        "& -C & (1+2 C) & -C & \\\\\n",
        "& & -C & (1+2 C) & -C \\\\\n",
        "& & & -C & (1+2 C)\n",
        "\\end{array}\\right]\n",
        "$$\n",
        "(a) Determine la factorización $\\mathrm{LU}$ de $\\mathbf{A}$ cuando $C=1 .$ Una matriz como A con tres diagonales diferentes de cero es llamada matriz tri-diagonal. Los factores $\\mathbf{L} \\mathrm{y} \\mathbf{U}$ son matrices bi-diagonales.\n",
        "\n",
        "(b) Suponga que $C=1$ y $\\mathbf{t}_{0}=[10,12,12,12,10]^{\\top} .$ Usar la factorización $\\mathrm{LU}$ de $\\mathbf{A}$ para encontrar la distribución de temperaturas $\\mathbf{t}_{1}, \\mathbf{t}_{2}, \\mathbf{t}_{3}, \\mathrm{y} \\mathbf{t}_{4}$\n"
      ]
    },
    {
      "cell_type": "code",
      "metadata": {
        "id": "WiAKHvYKW8hi",
        "colab": {
          "base_uri": "https://localhost:8080/"
        },
        "outputId": "7b3c4f8d-3113-43f6-8a51-87a80e09f401"
      },
      "source": [
        "from scipy.linalg import lu\n",
        "A=np.array([[3,-1,0,0,0],[-1,3,-1,0,0],[0,-1,3,-1,0],[0,0,-1,3,-1],[0,0,0,-1,3]])\n",
        "P,L,U=lu(A)\n",
        "print(P,'\\n')\n",
        "print(\"Matriz bidiagonal inferior L: \",'\\n',L,'\\n')\n",
        "print(\"Matriz bidiagonal superior U: \",'\\n',U,'\\n')\n",
        "print(\"Matriz tridiagonal A: \",'\\n',P@(L@U))"
      ],
      "execution_count": null,
      "outputs": [
        {
          "output_type": "stream",
          "name": "stdout",
          "text": [
            "[[1. 0. 0. 0. 0.]\n",
            " [0. 1. 0. 0. 0.]\n",
            " [0. 0. 1. 0. 0.]\n",
            " [0. 0. 0. 1. 0.]\n",
            " [0. 0. 0. 0. 1.]] \n",
            "\n",
            "Matriz bidiagonal inferior L:  \n",
            " [[ 1.          0.          0.          0.          0.        ]\n",
            " [-0.33333333  1.          0.          0.          0.        ]\n",
            " [ 0.         -0.375       1.          0.          0.        ]\n",
            " [ 0.          0.         -0.38095238  1.          0.        ]\n",
            " [ 0.          0.          0.         -0.38181818  1.        ]] \n",
            "\n",
            "Matriz bidiagonal superior U:  \n",
            " [[ 3.         -1.          0.          0.          0.        ]\n",
            " [ 0.          2.66666667 -1.          0.          0.        ]\n",
            " [ 0.          0.          2.625      -1.          0.        ]\n",
            " [ 0.          0.          0.          2.61904762 -1.        ]\n",
            " [ 0.          0.          0.          0.          2.61818182]] \n",
            "\n",
            "Matriz tridiagonal A:  \n",
            " [[ 3. -1.  0.  0.  0.]\n",
            " [-1.  3. -1.  0.  0.]\n",
            " [ 0. -1.  3. -1.  0.]\n",
            " [ 0.  0. -1.  3. -1.]\n",
            " [ 0.  0.  0. -1.  3.]]\n"
          ]
        }
      ]
    },
    {
      "cell_type": "markdown",
      "metadata": {
        "id": "wxesLFXxv-DM"
      },
      "source": [
        "**PA=LU** Entonces:\n",
        "**LUx=Pb, PAx=Pb**\n",
        "\n",
        "Para el calculo de las temperaturas hay que calcular las anteriores, primero t1"
      ]
    },
    {
      "cell_type": "code",
      "metadata": {
        "colab": {
          "base_uri": "https://localhost:8080/"
        },
        "id": "fWBeDpwvveYv",
        "outputId": "b86e7d34-feda-4fa6-eafc-ac6219e9eb4f"
      },
      "source": [
        "t=np.array([[10],[12],[12],[12],[10]])\n",
        "t1=np.linalg.solve(U,np.linalg.solve(L,P@t))\n",
        "print(\"t1= \",'\\n',t1)"
      ],
      "execution_count": null,
      "outputs": [
        {
          "output_type": "stream",
          "name": "stdout",
          "text": [
            "t1=  \n",
            " [[ 6.55555556]\n",
            " [ 9.66666667]\n",
            " [10.44444444]\n",
            " [ 9.66666667]\n",
            " [ 6.55555556]]\n"
          ]
        }
      ]
    },
    {
      "cell_type": "code",
      "metadata": {
        "colab": {
          "base_uri": "https://localhost:8080/"
        },
        "id": "l6U_xsQjwWPQ",
        "outputId": "d562d264-7842-4e75-c86d-ab5d13293f79"
      },
      "source": [
        "t2=np.linalg.solve(U,np.linalg.solve(L,P@t1))\n",
        "t3=np.linalg.solve(U,np.linalg.solve(L,P@t2))\n",
        "t4=np.linalg.solve(U,np.linalg.solve(L,P@t3))\n",
        "print(\"t2= \",'\\n',t2)\n",
        "print(\"t3= \",'\\n',t3)\n",
        "print(\"t4= \",'\\n',t4)"
      ],
      "execution_count": null,
      "outputs": [
        {
          "output_type": "stream",
          "name": "stdout",
          "text": [
            "t2=  \n",
            " [[4.74074074]\n",
            " [7.66666667]\n",
            " [8.59259259]\n",
            " [7.66666667]\n",
            " [4.74074074]]\n",
            "t3=  \n",
            " [[3.59876543]\n",
            " [6.05555556]\n",
            " [6.90123457]\n",
            " [6.05555556]\n",
            " [3.59876543]]\n",
            "t4=  \n",
            " [[2.79218107]\n",
            " [4.77777778]\n",
            " [5.48559671]\n",
            " [4.77777778]\n",
            " [2.79218107]]\n"
          ]
        }
      ]
    }
  ]
}